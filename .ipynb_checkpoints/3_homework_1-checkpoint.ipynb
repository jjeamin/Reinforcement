{
 "cells": [
  {
   "cell_type": "markdown",
   "metadata": {},
   "source": [
    "# Q1\n",
    "\n",
    "Gurobi 홈페이지를 통해 Academic License를 발급받고 Gurobi를 설치하세요. 아래에 나와있는 최적화 문제의 솔루션을 찾는 Python 코드를 강의자료와 동일하게 입력하고 실행하세요 (강의자료에 Python 코드가 있습니다).\n",
    "\n",
    "$max_{x_1, x_2} 2x_1 + 3x_2$\n",
    "\n",
    "$s. t.$\n",
    "\n",
    "$x_1 + 4x_2 \\leq 8$\n",
    "\n",
    "$x_1 - x_2 \\leq 1$\n",
    "\n",
    "$x_1, x_2 \\geq 0$\n",
    "\n",
    "Python 코드를 실행하고 터미널 출력 화면을 캡처해서 아래에 첨부하세요. 터미널 출력 화면에는 decision variables의 optimal value가 나타나야 하며, optimal values를 입력으로 했을 때의 objective function 값도 나타나야 합니다."
   ]
  },
  {
   "cell_type": "code",
   "execution_count": 1,
   "metadata": {},
   "outputs": [],
   "source": [
    "import gurobipy as gp\n",
    "from gurobipy import GRB"
   ]
  },
  {
   "cell_type": "code",
   "execution_count": 2,
   "metadata": {},
   "outputs": [
    {
     "name": "stdout",
     "output_type": "stream",
     "text": [
      "Using license file C:\\Users\\woals\\gurobi.lic\n",
      "Academic license - for non-commercial use only\n"
     ]
    }
   ],
   "source": [
    "m = gp.Model('q1')"
   ]
  },
  {
   "cell_type": "code",
   "execution_count": 3,
   "metadata": {},
   "outputs": [],
   "source": [
    "# create variables\n",
    "x1 = m.addVar(name=\"x1\")\n",
    "x2 = m.addVar(name=\"x2\")"
   ]
  },
  {
   "cell_type": "code",
   "execution_count": 4,
   "metadata": {},
   "outputs": [],
   "source": [
    "m.setObjective(2 * x1 + 3 * x2, GRB.MAXIMIZE)"
   ]
  },
  {
   "cell_type": "code",
   "execution_count": 5,
   "metadata": {},
   "outputs": [
    {
     "data": {
      "text/plain": [
       "<gurobi.Constr *Awaiting Model Update*>"
      ]
     },
     "execution_count": 5,
     "metadata": {},
     "output_type": "execute_result"
    }
   ],
   "source": [
    "# create constraint\n",
    "m.addConstr(x1 + 4 * x2 <= 8, \"c1\")\n",
    "m.addConstr(x1 - x2 <= 1, \"c2\")\n",
    "m.addConstr(x1 >= 0, \"c3\")\n",
    "m.addConstr(x2 >= 0, \"c4\")"
   ]
  },
  {
   "cell_type": "code",
   "execution_count": 6,
   "metadata": {},
   "outputs": [
    {
     "name": "stdout",
     "output_type": "stream",
     "text": [
      "Gurobi Optimizer version 9.0.1 build v9.0.1rc0 (win64)\n",
      "Optimize a model with 4 rows, 2 columns and 6 nonzeros\n",
      "Model fingerprint: 0xd4c2b91a\n",
      "Coefficient statistics:\n",
      "  Matrix range     [1e+00, 4e+00]\n",
      "  Objective range  [2e+00, 3e+00]\n",
      "  Bounds range     [0e+00, 0e+00]\n",
      "  RHS range        [1e+00, 8e+00]\n",
      "Presolve removed 4 rows and 2 columns\n",
      "Presolve time: 0.01s\n",
      "Presolve: All rows and columns removed\n",
      "Iteration    Objective       Primal Inf.    Dual Inf.      Time\n",
      "       0    9.0000000e+00   0.000000e+00   0.000000e+00      0s\n",
      "\n",
      "Solved in 0 iterations and 0.01 seconds\n",
      "Optimal objective  9.000000000e+00\n"
     ]
    }
   ],
   "source": [
    "m.optimize()"
   ]
  },
  {
   "cell_type": "code",
   "execution_count": 7,
   "metadata": {},
   "outputs": [
    {
     "name": "stdout",
     "output_type": "stream",
     "text": [
      "Optimal solution found\n",
      "x1 2.4\n",
      "x2 1.4\n",
      "Obj: 9.0\n"
     ]
    }
   ],
   "source": [
    "if m.status == GRB.OPTIMAL:\n",
    "    print('Optimal solution found')\n",
    "else:\n",
    "    print('Optimal solution NOT found')\n",
    "    \n",
    "for v in m.getVars():\n",
    "    print(f\"{v.varName} {v.x}\")\n",
    "\n",
    "print(f\"Obj: {m.objval}\")"
   ]
  },
  {
   "cell_type": "markdown",
   "metadata": {},
   "source": [
    "# Q2\n",
    "\n",
    "*Two Crude Petroleum (TCP) runs a small refinery on the Texas coast. The refinery distills crude petroleum from two sources, Saudi Arabia and Venezuela, into three main products: gasoline, jet fuel, and lubricants. The two crudes differ in chemical composition and thus yield different product mixes. Each barrel of Saudi Arabia crude yields 0.3 barrel of gasoline, 0.4 barrel of jet fuel, 0.2 barrel of lubricants, and 0.1 barrel of waste. On the other hand, each barrel of Venezuelan crude yields 0.4 barrel of gasoline, 0.2 barrel of jet fuel, 0.3 barrel of lubricants, and 0.1 barrel of waste. The crudes also differ in cost and availability. TCP can purchase up to 9000 barrels per day from Saudi Arabia at $\\$$20 per barrel. Up to 6000 barrels per day of Venezuelan petroleum are also available at the lower cost of $\\$$15 per barrel because of the shorter transportation distance. TCP’s contracts with independent distributors require it to produce 2000 barrels per day of gasoline, 1500 barrels per day of jet fuel, and 500 barrels per day of lubricants. How can these requirements be met most cost effectively?*"
   ]
  },
  {
   "cell_type": "markdown",
   "metadata": {},
   "source": [
    "- 3가지 제품\n",
    "\n",
    "## 혼합물\n",
    "- 사우디 아라비아 원유의 각 배럴\n",
    "    + 가솔린    : 0.3 배럴\n",
    "    + 제트 연료 : 0.4 배럴\n",
    "    + 윤활제    : 0.2 배럴\n",
    "    + 폐기물    : 0.1 배럴\n",
    "\n",
    "- 배네수엘라 원유의 각 배럴\n",
    "    + 가솔린    : 0.4 배럴\n",
    "    + 제트 연료 : 0.2 배럴\n",
    "    + 윤활제    : 0.3 배럴\n",
    "    + 폐기물    : 0.1 배럴\n",
    "\n",
    "\n",
    "## 사우디 아라비아\n",
    "- 배럴 당 20 달러\n",
    "- 하루 최대 9000개 배럴 구매 가능\n",
    "\n",
    "## 베네수엘라\n",
    "- 배럴 당 15 달러\n",
    "- 하루 최대 6000개 배럴 구매 가능\n",
    "\n",
    "## 계약\n",
    "- 하루 2000 배럴 가솔린\n",
    "- 하루 1500 배럴 제트 연료\n",
    "- 하루 500 배럴 윤활유\n",
    "\n",
    "# 목적 : 가격을 최소화\n",
    "\n",
    "---\n",
    "\n",
    "**subject to**\n",
    "\n",
    "$x_1 >= 0$\n",
    "\n",
    "$x_2 >= 0$\n",
    "\n",
    "$x_1 \\leq 9000$ \n",
    "\n",
    "$x_2 \\leq 6000$\n",
    "\n",
    "$0.3x_1 + 0.4x_2 \\geq 2000$\n",
    "\n",
    "$0.4x_1 + 0.2x_2 \\geq 1500$\n",
    "\n",
    "$0.2x_1 + 0.3x_2 \\geq 500$\n",
    "\n",
    "**obj**\n",
    "\n",
    "$20x_1 + 15x_2 \\geq 15000$"
   ]
  },
  {
   "cell_type": "code",
   "execution_count": 23,
   "metadata": {},
   "outputs": [],
   "source": [
    "m = gp.Model('q2')"
   ]
  },
  {
   "cell_type": "code",
   "execution_count": 24,
   "metadata": {},
   "outputs": [],
   "source": [
    "# create variables\n",
    "x1 = m.addVar(name=\"x1\")\n",
    "x2 = m.addVar(name=\"x2\")"
   ]
  },
  {
   "cell_type": "code",
   "execution_count": 25,
   "metadata": {},
   "outputs": [],
   "source": [
    "m.setObjective(20 * x1 + 15 * x2, GRB.MINIMIZE)"
   ]
  },
  {
   "cell_type": "code",
   "execution_count": 26,
   "metadata": {},
   "outputs": [
    {
     "data": {
      "text/plain": [
       "<gurobi.Constr *Awaiting Model Update*>"
      ]
     },
     "execution_count": 26,
     "metadata": {},
     "output_type": "execute_result"
    }
   ],
   "source": [
    "# create constraint\n",
    "m.addConstr(x1 >= 0, \"c1 : nonnegative-1\")\n",
    "m.addConstr(x2 >= 0, \"c1 : nonnegative-2\")\n",
    "m.addConstr(x1 <= 9000, \"c2 : limit-1\")\n",
    "m.addConstr(x2 <= 6000, \"c2 : limit-2\")\n",
    "m.addConstr(0.3 * x1 + 0.4 * x2 >= 2000, \"c3 : require-1\")\n",
    "m.addConstr(0.4 * x1 + 0.2 * x2 >= 1500, \"c3 : require-2\")\n",
    "m.addConstr(0.2 * x1 + 0.3 * x2 >= 500, \"c3 : require-3\")"
   ]
  },
  {
   "cell_type": "code",
   "execution_count": 27,
   "metadata": {},
   "outputs": [
    {
     "name": "stdout",
     "output_type": "stream",
     "text": [
      "Gurobi Optimizer version 9.0.1 build v9.0.1rc0 (win64)\n",
      "Optimize a model with 7 rows, 2 columns and 10 nonzeros\n",
      "Model fingerprint: 0x1d55cd82\n",
      "Coefficient statistics:\n",
      "  Matrix range     [2e-01, 1e+00]\n",
      "  Objective range  [2e+01, 2e+01]\n",
      "  Bounds range     [0e+00, 0e+00]\n",
      "  RHS range        [5e+02, 9e+03]\n",
      "Presolve removed 4 rows and 0 columns\n",
      "Presolve time: 0.01s\n",
      "Presolved: 3 rows, 2 columns, 6 nonzeros\n",
      "\n",
      "Iteration    Objective       Primal Inf.    Dual Inf.      Time\n",
      "       0    8.1555929e+04   3.126878e+02   0.000000e+00      0s\n",
      "       1    9.2500000e+04   0.000000e+00   0.000000e+00      0s\n",
      "\n",
      "Solved in 1 iterations and 0.01 seconds\n",
      "Optimal objective  9.250000000e+04\n"
     ]
    }
   ],
   "source": [
    "m.optimize()"
   ]
  },
  {
   "cell_type": "code",
   "execution_count": 28,
   "metadata": {},
   "outputs": [
    {
     "name": "stdout",
     "output_type": "stream",
     "text": [
      "Optimal solution found\n",
      "x1 2000.0\n",
      "x2 3500.0\n",
      "Obj: 92500.0\n"
     ]
    }
   ],
   "source": [
    "if m.status == GRB.OPTIMAL:\n",
    "    print('Optimal solution found')\n",
    "else:\n",
    "    print('Optimal solution NOT found')\n",
    "    \n",
    "for v in m.getVars():\n",
    "    print(f\"{v.varName} {v.x}\")\n",
    "\n",
    "print(f\"Obj: {m.objval}\")"
   ]
  }
 ],
 "metadata": {
  "kernelspec": {
   "display_name": "alpha",
   "language": "python",
   "name": "alpha"
  },
  "language_info": {
   "codemirror_mode": {
    "name": "ipython",
    "version": 3
   },
   "file_extension": ".py",
   "mimetype": "text/x-python",
   "name": "python",
   "nbconvert_exporter": "python",
   "pygments_lexer": "ipython3",
   "version": "3.6.7"
  }
 },
 "nbformat": 4,
 "nbformat_minor": 2
}
