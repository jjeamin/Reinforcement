{
 "cells": [
  {
   "cell_type": "markdown",
   "metadata": {},
   "source": [
    "# 1. Infeasible Problem\n",
    "\n",
    "- 불가능한 문제\n",
    "\n",
    "## obj.\n",
    "\n",
    "\n",
    "$min_{x_1, x_2, x_3} (x_1 + x_2 + x_3)$\n",
    "\n",
    "\n",
    "## Subject to.\n",
    "\n",
    "$x_1 \\geq 0$\n",
    "\n",
    "$x_2 + x_3 \\geq 5$\n",
    "\n",
    "$x_3 \\leq -10$\n"
   ]
  },
  {
   "cell_type": "code",
   "execution_count": 1,
   "metadata": {},
   "outputs": [],
   "source": [
    "import gurobipy as gp\n",
    "import numpy as np\n",
    "from gurobipy import GRB"
   ]
  },
  {
   "cell_type": "code",
   "execution_count": 2,
   "metadata": {},
   "outputs": [
    {
     "name": "stdout",
     "output_type": "stream",
     "text": [
      "Using license file C:\\Users\\woals\\gurobi.lic\n",
      "Academic license - for non-commercial use only\n"
     ]
    }
   ],
   "source": [
    "m = gp.Model('infeasible_model')"
   ]
  },
  {
   "cell_type": "code",
   "execution_count": 3,
   "metadata": {},
   "outputs": [],
   "source": [
    "# create variables\n",
    "x1 = m.addVar(name=\"x1\")\n",
    "x2 = m.addVar(name=\"x2\")\n",
    "x3 = m.addVar(name=\"x3\")"
   ]
  },
  {
   "cell_type": "code",
   "execution_count": 4,
   "metadata": {},
   "outputs": [
    {
     "name": "stdout",
     "output_type": "stream",
     "text": [
      "Changed value of parameter DualReductions to 0\n",
      "   Prev: 1  Min: 0  Max: 1  Default: 1\n"
     ]
    }
   ],
   "source": [
    "# unbounded or infeasible에서 명확한 결론을 얻기 위한 파라미터 설정\n",
    "m.Params.DualReductions = 0"
   ]
  },
  {
   "cell_type": "code",
   "execution_count": 5,
   "metadata": {},
   "outputs": [],
   "source": [
    "m.setObjective(x1 + x2 + x3, GRB.MINIMIZE)"
   ]
  },
  {
   "cell_type": "code",
   "execution_count": 6,
   "metadata": {},
   "outputs": [
    {
     "data": {
      "text/plain": [
       "<gurobi.Constr *Awaiting Model Update*>"
      ]
     },
     "execution_count": 6,
     "metadata": {},
     "output_type": "execute_result"
    }
   ],
   "source": [
    "# create constraint\n",
    "m.addConstr(x1 >= 0, \"c1\")\n",
    "m.addConstr(x2 + x3 >= 5, \"c2\")\n",
    "m.addConstr(x3 <= -10, \"c3\")"
   ]
  },
  {
   "cell_type": "code",
   "execution_count": 7,
   "metadata": {},
   "outputs": [
    {
     "name": "stdout",
     "output_type": "stream",
     "text": [
      "Gurobi Optimizer version 9.0.1 build v9.0.1rc0 (win64)\n",
      "Optimize a model with 3 rows, 3 columns and 4 nonzeros\n",
      "Model fingerprint: 0xc92f9827\n",
      "Coefficient statistics:\n",
      "  Matrix range     [1e+00, 1e+00]\n",
      "  Objective range  [1e+00, 1e+00]\n",
      "  Bounds range     [0e+00, 0e+00]\n",
      "  RHS range        [5e+00, 1e+01]\n",
      "Presolve time: 0.01s\n",
      "\n",
      "Solved in 0 iterations and 0.01 seconds\n",
      "Infeasible model\n"
     ]
    }
   ],
   "source": [
    "m.optimize()"
   ]
  },
  {
   "cell_type": "code",
   "execution_count": 8,
   "metadata": {},
   "outputs": [
    {
     "name": "stdout",
     "output_type": "stream",
     "text": [
      "Optimal solution is Infeasible problem\n"
     ]
    }
   ],
   "source": [
    "if m.status == GRB.OPTIMAL:\n",
    "    print('Optimal solution found')\n",
    "\n",
    "elif m.status == GRB.INFEASIBLE:\n",
    "    print(\"Optimal solution is Infeasible problem\")\n",
    "    \n",
    "elif m.status == GRB.INF_OR_UNBD:\n",
    "    print(\"Optimal solution is Infeasible or unbounded problem\")\n",
    "    \n",
    "elif m.status == GRB.UNBOUNDED:\n",
    "    print(\"Optimal solution is unbounded problem\")\n",
    "\n",
    "else:\n",
    "    print('Optimal solution NOT found')"
   ]
  },
  {
   "cell_type": "markdown",
   "metadata": {},
   "source": [
    "# 2. Unbounded Problem\n",
    "\n",
    "- 도달할 수 없는 문제\n",
    "\n",
    "## obj.\n",
    "\n",
    "$max(x_1 \\times 6 x_2)$\n",
    "\n",
    "## Subject to.\n",
    "\n",
    "$x_1 + x_2 \\geq 6$\n",
    "\n",
    "$3 x_1 - 2 x_2 \\geq -3$ \n",
    "\n",
    "$x_1 \\geq 0$\n",
    "\n",
    "$x_2 \\geq 0$"
   ]
  },
  {
   "cell_type": "code",
   "execution_count": 9,
   "metadata": {},
   "outputs": [],
   "source": [
    "m = gp.Model('unbounded_model')"
   ]
  },
  {
   "cell_type": "code",
   "execution_count": 10,
   "metadata": {},
   "outputs": [],
   "source": [
    "# create variables\n",
    "x1 = m.addVar(name=\"x1\")\n",
    "x2 = m.addVar(name=\"x2\")"
   ]
  },
  {
   "cell_type": "code",
   "execution_count": 11,
   "metadata": {},
   "outputs": [],
   "source": [
    "m.setObjective(x1 + 6 * x2, GRB.MAXIMIZE)"
   ]
  },
  {
   "cell_type": "code",
   "execution_count": 12,
   "metadata": {},
   "outputs": [
    {
     "data": {
      "text/plain": [
       "<gurobi.Constr *Awaiting Model Update*>"
      ]
     },
     "execution_count": 12,
     "metadata": {},
     "output_type": "execute_result"
    }
   ],
   "source": [
    "# create constraint\n",
    "m.addConstr(x1 + x2 >= 6, \"c1\")\n",
    "m.addConstr(3 * x1 - 2 * x2 >= -3, \"c2\")\n",
    "m.addConstr(x1 >= 0, \"c3\")\n",
    "m.addConstr(x2 >= 0, \"c4\")"
   ]
  },
  {
   "cell_type": "code",
   "execution_count": 13,
   "metadata": {},
   "outputs": [
    {
     "name": "stdout",
     "output_type": "stream",
     "text": [
      "Changed value of parameter DualReductions to 0\n",
      "   Prev: 1  Min: 0  Max: 1  Default: 1\n"
     ]
    }
   ],
   "source": [
    "# unbounded or infeasible에서 명확한 결론을 얻기 위한 파라미터 설정\n",
    "m.Params.DualReductions = 0"
   ]
  },
  {
   "cell_type": "code",
   "execution_count": 14,
   "metadata": {},
   "outputs": [
    {
     "name": "stdout",
     "output_type": "stream",
     "text": [
      "Gurobi Optimizer version 9.0.1 build v9.0.1rc0 (win64)\n",
      "Optimize a model with 4 rows, 2 columns and 6 nonzeros\n",
      "Model fingerprint: 0xa0a3b9cb\n",
      "Coefficient statistics:\n",
      "  Matrix range     [1e+00, 3e+00]\n",
      "  Objective range  [1e+00, 6e+00]\n",
      "  Bounds range     [0e+00, 0e+00]\n",
      "  RHS range        [3e+00, 6e+00]\n",
      "Presolve removed 2 rows and 0 columns\n",
      "Presolve time: 0.01s\n",
      "Presolved: 2 rows, 2 columns, 4 nonzeros\n",
      "\n",
      "Iteration    Objective       Primal Inf.    Dual Inf.      Time\n",
      "       0    7.0000000e+30   0.000000e+00   7.000000e+00      0s\n",
      "\n",
      "Solved in 0 iterations and 0.01 seconds\n",
      "Unbounded model\n"
     ]
    }
   ],
   "source": [
    "m.optimize()"
   ]
  },
  {
   "cell_type": "code",
   "execution_count": 15,
   "metadata": {},
   "outputs": [
    {
     "name": "stdout",
     "output_type": "stream",
     "text": [
      "Optimal solution is unbounded problem\n"
     ]
    }
   ],
   "source": [
    "if m.status == GRB.OPTIMAL:\n",
    "    print('Optimal solution found')\n",
    "\n",
    "elif m.status == GRB.INFEASIBLE:\n",
    "    print(\"Optimal solution is Infeasible problem\")\n",
    "    \n",
    "elif m.status == GRB.INF_OR_UNBD:\n",
    "    print(\"Optimal solution is Infeasible or unbounded problem\")\n",
    "    \n",
    "elif m.status == GRB.UNBOUNDED:\n",
    "    print(\"Optimal solution is unbounded problem\")\n",
    "\n",
    "else:\n",
    "    print('Optimal solution NOT found')"
   ]
  },
  {
   "cell_type": "markdown",
   "metadata": {},
   "source": [
    "# 3. Linear Regression"
   ]
  },
  {
   "cell_type": "code",
   "execution_count": 16,
   "metadata": {},
   "outputs": [],
   "source": [
    "def load_data(path):\n",
    "    with open(path, 'r') as f:\n",
    "        data = f.readlines()\n",
    "        \n",
    "    x_data = []\n",
    "    y_data = []\n",
    "\n",
    "    for d in data:\n",
    "        x, y = d.strip('\\n').split(',')\n",
    "\n",
    "        x_data.append(float(x))\n",
    "        y_data.append(float(y))\n",
    "        \n",
    "    return np.array(x_data), np.array(y_data)"
   ]
  },
  {
   "cell_type": "code",
   "execution_count": 17,
   "metadata": {},
   "outputs": [],
   "source": [
    "x_data, y_data = load_data('./data/ex1data1.txt')"
   ]
  },
  {
   "cell_type": "code",
   "execution_count": 18,
   "metadata": {},
   "outputs": [
    {
     "data": {
      "text/plain": [
       "<matplotlib.collections.PathCollection at 0x215630d80b8>"
      ]
     },
     "execution_count": 18,
     "metadata": {},
     "output_type": "execute_result"
    },
    {
     "data": {
      "image/png": "[encoded data removed]",
      "text/plain": [
       "<Figure size 432x288 with 1 Axes>"
      ]
     },
     "metadata": {
      "needs_background": "light"
     },
     "output_type": "display_data"
    }
   ],
   "source": [
    "import matplotlib.pyplot as plt\n",
    "\n",
    "plt.scatter(x_data, y_data)"
   ]
  },
  {
   "cell_type": "code",
   "execution_count": 19,
   "metadata": {},
   "outputs": [
    {
     "name": "stdout",
     "output_type": "stream",
     "text": [
      "(97, 1) (97, 1)\n"
     ]
    }
   ],
   "source": [
    "x_data = x_data.reshape(-1, 1)\n",
    "y_data = y_data.reshape(-1, 1)\n",
    "\n",
    "print(x_data.shape, y_data.shape)"
   ]
  },
  {
   "cell_type": "code",
   "execution_count": 20,
   "metadata": {},
   "outputs": [],
   "source": [
    "X = np.concatenate([np.ones_like(x_data), x_data], axis=1)\n",
    "y = y_data.reshape(len(y_data), 1)"
   ]
  },
  {
   "cell_type": "code",
   "execution_count": 21,
   "metadata": {},
   "outputs": [],
   "source": [
    "theta = np.linalg.inv(X.T @ X) @ X.T @ y"
   ]
  },
  {
   "cell_type": "code",
   "execution_count": 22,
   "metadata": {},
   "outputs": [
    {
     "name": "stdout",
     "output_type": "stream",
     "text": [
      "theta 0 : [-3.89578088] / theta 1 : [1.19303364]\n"
     ]
    }
   ],
   "source": [
    "print(f\"theta 0 : {theta[0]} / theta 1 : {theta[1]}\")"
   ]
  },
  {
   "cell_type": "code",
   "execution_count": 23,
   "metadata": {},
   "outputs": [],
   "source": [
    "new_x_data = range(0, 26)\n",
    "\n",
    "pred_y = theta[1] * new_x_data + theta[0]"
   ]
  },
  {
   "cell_type": "code",
   "execution_count": 24,
   "metadata": {},
   "outputs": [
    {
     "data": {
      "image/png": "[encoded data removed]",
      "text/plain": [
       "<Figure size 720x432 with 1 Axes>"
      ]
     },
     "metadata": {
      "needs_background": "light"
     },
     "output_type": "display_data"
    }
   ],
   "source": [
    "plt.figure(figsize=(10, 6))\n",
    "\n",
    "plt.scatter(x_data, y_data, label=\"data\")\n",
    "plt.plot(new_x_data, pred_y, color='red')\n",
    "\n",
    "plt.xlim(0, 25)\n",
    "plt.ylim(-5, 30)\n",
    "\n",
    "plt.show()"
   ]
  },
  {
   "cell_type": "markdown",
   "metadata": {},
   "source": [
    "# Gradient Descent"
   ]
  },
  {
   "cell_type": "code",
   "execution_count": 25,
   "metadata": {},
   "outputs": [
    {
     "name": "stdout",
     "output_type": "stream",
     "text": [
      "Init Epoch : 5000\n",
      "Init Learning Rate : 0.1\n"
     ]
    },
    {
     "name": "stderr",
     "output_type": "stream",
     "text": [
      "C:\\Users\\woals\\.conda\\envs\\alpha\\lib\\site-packages\\ipykernel_launcher.py:28: RuntimeWarning: overflow encountered in double_scalars\n",
      "C:\\Users\\woals\\.conda\\envs\\alpha\\lib\\site-packages\\ipykernel_launcher.py:28: RuntimeWarning: invalid value encountered in double_scalars\n"
     ]
    },
    {
     "name": "stdout",
     "output_type": "stream",
     "text": [
      "Init Learning Rate : 0.01\n",
      "Init Learning Rate : 0.001\n",
      "Init Learning Rate : 0.0001\n",
      "Init Learning Rate : 1e-05\n"
     ]
    }
   ],
   "source": [
    "import random\n",
    "\n",
    "x, y = load_data('./data/ex1data1.txt')\n",
    "lr = [0.1, 0.01, 0.001, 0.0001, 0.00001] \n",
    "epochs = 5000\n",
    "\n",
    "m = len(x)\n",
    "\n",
    "theta_1_log = []\n",
    "theta_0_log = []\n",
    "error_log = []\n",
    "\n",
    "print(f\"Init Epoch : {epochs}\")\n",
    "\n",
    "for _lr in lr:\n",
    "    error = []\n",
    "    \n",
    "    theta_0 = random.random()\n",
    "    theta_1 = random.random()\n",
    "    \n",
    "    print(f\"Init Learning Rate : {_lr}\")\n",
    "    \n",
    "    for e in range(epochs):\n",
    "        pred_y = theta_1 * x + theta_0\n",
    "\n",
    "        error.append(abs(sum(pred_y - y)))\n",
    "\n",
    "        new_theta_1 = theta_1 - _lr * sum(x * (pred_y - y)) / m\n",
    "        new_theta_0 = theta_0 - _lr * sum(pred_y - y) / m \n",
    "\n",
    "        theta_1 = new_theta_1\n",
    "        theta_0 = new_theta_0\n",
    "    \n",
    "    theta_0_log.append(theta_0)\n",
    "    theta_1_log.append(theta_1)\n",
    "    error_log.append(error)"
   ]
  },
  {
   "cell_type": "code",
   "execution_count": 26,
   "metadata": {},
   "outputs": [
    {
     "name": "stdout",
     "output_type": "stream",
     "text": [
      "theta 0 : [nan, -3.895269644997272, -2.0090636049221464, -0.14777204445434766, 0.6279417539632863]\n",
      "theta 1 : [nan, 1.1929822852578889, 1.0034924291977978, 0.8165055028571011, 0.7397969358008242]\n"
     ]
    }
   ],
   "source": [
    "print(f\"theta 0 : {theta_0_log}\\ntheta 1 : {theta_1_log}\")"
   ]
  },
  {
   "cell_type": "code",
   "execution_count": 27,
   "metadata": {},
   "outputs": [],
   "source": [
    "pred_y = []\n",
    "new_x_data = range(0, 26)\n",
    "\n",
    "for theta_1, theta_0 in zip(theta_1_log, theta_0_log):\n",
    "    pred_y.append(theta_1 * new_x_data + theta_0)"
   ]
  },
  {
   "cell_type": "code",
   "execution_count": 28,
   "metadata": {},
   "outputs": [],
   "source": [
    "color = ['red', 'blue', 'green', 'orange', 'purple']"
   ]
  },
  {
   "cell_type": "code",
   "execution_count": 29,
   "metadata": {},
   "outputs": [
    {
     "data": {
      "image/png": "[encoded data removed]",
      "text/plain": [
       "<Figure size 720x432 with 1 Axes>"
      ]
     },
     "metadata": {
      "needs_background": "light"
     },
     "output_type": "display_data"
    }
   ],
   "source": [
    "plt.figure(figsize=(10, 6))\n",
    "\n",
    "plt.scatter(x_data, y_data, label=\"data\")\n",
    "\n",
    "for i, y in enumerate(pred_y):\n",
    "    plt.plot(new_x_data, y, color=color[i], label=f\"{lr[i]}\")\n",
    "\n",
    "plt.legend()\n",
    "plt.xlim(0, 25)\n",
    "plt.ylim(-5, 30)\n",
    "\n",
    "plt.show()"
   ]
  },
  {
   "cell_type": "code",
   "execution_count": 30,
   "metadata": {},
   "outputs": [
    {
     "data": {
      "image/png": "[encoded data removed]",
      "text/plain": [
       "<Figure size 1008x432 with 5 Axes>"
      ]
     },
     "metadata": {
      "needs_background": "light"
     },
     "output_type": "display_data"
    }
   ],
   "source": [
    "fig = plt.figure(figsize=(14, 6))\n",
    "\n",
    "for i, error in enumerate(error_log):\n",
    "    ax = fig.add_subplot(2,5,i+1)\n",
    "    ax.plot(range(len(error)), error, color=color[i], label=f\"{lr[i]}\")\n",
    "    ax.legend()\n",
    "    \n",
    "plt.show()"
   ]
  },
  {
   "cell_type": "code",
   "execution_count": null,
   "metadata": {},
   "outputs": [],
   "source": []
  }
 ],
 "metadata": {
  "kernelspec": {
   "display_name": "alpha",
   "language": "python",
   "name": "alpha"
  },
  "language_info": {
   "codemirror_mode": {
    "name": "ipython",
    "version": 3
   },
   "file_extension": ".py",
   "mimetype": "text/x-python",
   "name": "python",
   "nbconvert_exporter": "python",
   "pygments_lexer": "ipython3",
   "version": "3.6.7"
  }
 },
 "nbformat": 4,
 "nbformat_minor": 2
}
