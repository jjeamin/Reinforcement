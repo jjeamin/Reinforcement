{
 "cells": [
  {
   "cell_type": "code",
   "execution_count": 2,
   "metadata": {},
   "outputs": [],
   "source": [
    "import gurobipy as gp\n",
    "from gurobipy import GRB"
   ]
  },
  {
   "cell_type": "code",
   "execution_count": 3,
   "metadata": {},
   "outputs": [
    {
     "name": "stdout",
     "output_type": "stream",
     "text": [
      "Using license file C:\\Users\\woals\\gurobi.lic\n",
      "Academic license - for non-commercial use only\n"
     ]
    }
   ],
   "source": [
    "m = gp.Model('DietProg')"
   ]
  },
  {
   "cell_type": "code",
   "execution_count": 4,
   "metadata": {},
   "outputs": [],
   "source": [
    "x1 = m.addVar(name='x1')\n",
    "x2 = m.addVar(name='x2')\n",
    "x3 = m.addVar(name='x3')\n",
    "x4 = m.addVar(name='x4')\n",
    "x5 = m.addVar(name='x5')\n",
    "x6 = m.addVar(name='x6')"
   ]
  },
  {
   "cell_type": "code",
   "execution_count": 5,
   "metadata": {},
   "outputs": [],
   "source": [
    "m.setObjective(30*x1 + 240*x2 + 130*x3 + 90*x4 + 200*x5 + 60*x6, GRB.MINIMIZE)"
   ]
  },
  {
   "cell_type": "code",
   "execution_count": 6,
   "metadata": {},
   "outputs": [
    {
     "data": {
      "text/plain": [
       "<gurobi.Constr *Awaiting Model Update*>"
      ]
     },
     "execution_count": 6,
     "metadata": {},
     "output_type": "execute_result"
    }
   ],
   "source": [
    "m.addConstr(110*x1 + 205*x2 + 160*x3 + 160*x4 + 420*x5 + 260*x6 >= 2000, \"c1: energy\")\n",
    "m.addConstr(4*x1 + 32*x2 + 13*x3 + 8*x4 + 4*x5 + 14*x6 >= 55, \"c2: protein\")\n",
    "m.addConstr(2*x1 + 12*x2 + 54*x3 + 285*x4 + 22*x5 + 80*x6 >= 800, \"c3: calcium\")"
   ]
  },
  {
   "cell_type": "code",
   "execution_count": 10,
   "metadata": {},
   "outputs": [
    {
     "data": {
      "text/plain": [
       "<gurobi.Constr *Awaiting Model Update*>"
      ]
     },
     "execution_count": 10,
     "metadata": {},
     "output_type": "execute_result"
    }
   ],
   "source": [
    "m.addConstr(x1 <= 4, \"c4: limit-1\")\n",
    "m.addConstr(x2 <= 3, \"c4: limit-2\")\n",
    "m.addConstr(x3 <= 2, \"c4: limit-3\")\n",
    "m.addConstr(x4 <= 8, \"c4: limit-4\")\n",
    "m.addConstr(x5 <= 2, \"c4: limit-5\")\n",
    "m.addConstr(x6 <= 2, \"c4: limit-6\")"
   ]
  },
  {
   "cell_type": "code",
   "execution_count": 12,
   "metadata": {},
   "outputs": [
    {
     "data": {
      "text/plain": [
       "<gurobi.Constr *Awaiting Model Update*>"
      ]
     },
     "execution_count": 12,
     "metadata": {},
     "output_type": "execute_result"
    }
   ],
   "source": [
    "m.addConstr(x1 >= 0, \"c5: nonnegative-1\")\n",
    "m.addConstr(x2 >= 0, \"c5: nonnegative-2\")\n",
    "m.addConstr(x3 >= 0, \"c5: nonnegative-3\")\n",
    "m.addConstr(x4 >= 0, \"c5: nonnegative-4\")\n",
    "m.addConstr(x5 >= 0, \"c5: nonnegative-5\")\n",
    "m.addConstr(x6 >= 0, \"c5: nonnegative-6\")"
   ]
  },
  {
   "cell_type": "code",
   "execution_count": 13,
   "metadata": {},
   "outputs": [
    {
     "name": "stdout",
     "output_type": "stream",
     "text": [
      "Gurobi Optimizer version 9.0.1 build v9.0.1rc0 (win64)\n",
      "Optimize a model with 21 rows, 6 columns and 36 nonzeros\n",
      "Model fingerprint: 0x2ab73e86\n",
      "Coefficient statistics:\n",
      "  Matrix range     [1e+00, 4e+02]\n",
      "  Objective range  [3e+01, 2e+02]\n",
      "  Bounds range     [0e+00, 0e+00]\n",
      "  RHS range        [2e+00, 2e+03]\n",
      "Presolve removed 18 rows and 0 columns\n",
      "Presolve time: 0.05s\n",
      "Presolved: 3 rows, 6 columns, 18 nonzeros\n",
      "\n",
      "Iteration    Objective       Primal Inf.    Dual Inf.      Time\n",
      "       0    5.4409096e+02   1.515257e+02   0.000000e+00      0s\n",
      "       2    7.6406955e+02   0.000000e+00   0.000000e+00      0s\n",
      "\n",
      "Solved in 2 iterations and 0.09 seconds\n",
      "Optimal objective  7.640695473e+02\n"
     ]
    }
   ],
   "source": [
    "m.optimize()"
   ]
  },
  {
   "cell_type": "code",
   "execution_count": 16,
   "metadata": {},
   "outputs": [
    {
     "name": "stdout",
     "output_type": "stream",
     "text": [
      "Optimal solution found\n"
     ]
    }
   ],
   "source": [
    "if m.status == GRB.OPTIMAL:\n",
    "    print('Optimal solution found')\n",
    "else:\n",
    "    print('Optimal solution NOT found')"
   ]
  },
  {
   "cell_type": "code",
   "execution_count": 17,
   "metadata": {},
   "outputs": [
    {
     "name": "stdout",
     "output_type": "stream",
     "text": [
      "x1 4.0\n",
      "x2 0.0\n",
      "x3 0.0\n",
      "x4 2.0877948011705976\n",
      "x5 1.6808400757445343\n",
      "x6 2.0\n"
     ]
    }
   ],
   "source": [
    "for v in m.getVars():\n",
    "    print(f'{v.varName} {v.x}')"
   ]
  },
  {
   "cell_type": "code",
   "execution_count": 18,
   "metadata": {},
   "outputs": [
    {
     "name": "stdout",
     "output_type": "stream",
     "text": [
      "Obj: 764.0695472542607\n"
     ]
    }
   ],
   "source": [
    "print(f'Obj: {m.objVal}')"
   ]
  },
  {
   "cell_type": "code",
   "execution_count": null,
   "metadata": {},
   "outputs": [],
   "source": [
    " "
   ]
  }
 ],
 "metadata": {
  "kernelspec": {
   "display_name": "alpha",
   "language": "python",
   "name": "alpha"
  },
  "language_info": {
   "codemirror_mode": {
    "name": "ipython",
    "version": 3
   },
   "file_extension": ".py",
   "mimetype": "text/x-python",
   "name": "python",
   "nbconvert_exporter": "python",
   "pygments_lexer": "ipython3",
   "version": "3.6.7"
  }
 },
 "nbformat": 4,
 "nbformat_minor": 2
}
